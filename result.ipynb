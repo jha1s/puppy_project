{
 "cells": [
  {
   "cell_type": "code",
   "execution_count": 1,
   "metadata": {},
   "outputs": [],
   "source": [
    "import pandas as pd\n",
    "import numpy as np"
   ]
  },
  {
   "cell_type": "code",
   "execution_count": 2,
   "metadata": {},
   "outputs": [],
   "source": [
    "import warnings\n",
    "warnings.filterwarnings(\"ignore\")"
   ]
  },
  {
   "cell_type": "code",
   "execution_count": 3,
   "metadata": {},
   "outputs": [],
   "source": [
    "#결과 화면에서 테이블을 크게 보기 위한 설정\n",
    "pd.set_option('display.max_row', 500)\n",
    "pd.set_option('display.max_columns', 100) "
   ]
  },
  {
   "cell_type": "markdown",
   "metadata": {},
   "source": [
    "# 응급도를 갖는 질병 테이블 만들기"
   ]
  },
  {
   "cell_type": "code",
   "execution_count": 4,
   "metadata": {},
   "outputs": [],
   "source": [
    "df = pd.read_excel('./최종자료/꼬리2.0 질병증상데이터_공유용 v1.2.xlsx', sheet_name='전체')\n",
    "# df.head()"
   ]
  },
  {
   "cell_type": "code",
   "execution_count": 5,
   "metadata": {},
   "outputs": [],
   "source": [
    "df.columns = df.columns.str.replace(' ','')"
   ]
  },
  {
   "cell_type": "code",
   "execution_count": 6,
   "metadata": {},
   "outputs": [],
   "source": [
    "df_dis = pd.read_excel('./최종자료/꼬리2.0 질병증상데이터_공유용 v1.2.xlsx', sheet_name='질병')\n",
    "# df_dis.head()"
   ]
  },
  {
   "cell_type": "code",
   "execution_count": 7,
   "metadata": {},
   "outputs": [],
   "source": [
    "df['응급도'] = ['']*len(df)"
   ]
  },
  {
   "cell_type": "code",
   "execution_count": 8,
   "metadata": {},
   "outputs": [],
   "source": [
    "a = {(name, species) : emer for name, species, emer in zip(df_dis['질병명'], df_dis['축종'], df_dis['응급도'])}"
   ]
  },
  {
   "cell_type": "code",
   "execution_count": 9,
   "metadata": {},
   "outputs": [],
   "source": [
    "b = [a[(name, species)] for name, species in zip(df['질병명'], df['질병축종'])]"
   ]
  },
  {
   "cell_type": "code",
   "execution_count": 10,
   "metadata": {},
   "outputs": [],
   "source": [
    "df['응급도'] = b"
   ]
  },
  {
   "cell_type": "code",
   "execution_count": 11,
   "metadata": {},
   "outputs": [],
   "source": [
    "df = df.sort_values(by=['표준증상명'])"
   ]
  },
  {
   "cell_type": "code",
   "execution_count": 12,
   "metadata": {},
   "outputs": [],
   "source": [
    "# df.head(10)"
   ]
  },
  {
   "cell_type": "code",
   "execution_count": 13,
   "metadata": {},
   "outputs": [],
   "source": [
    "df.to_excel(\"./최종자료/diseas_result.xlsx\", index=False) #만들고 나면 주석 처리 하세요."
   ]
  },
  {
   "cell_type": "markdown",
   "metadata": {},
   "source": [
    "### 특성 테이블 정리"
   ]
  },
  {
   "cell_type": "code",
   "execution_count": 14,
   "metadata": {},
   "outputs": [],
   "source": [
    "df_char = pd.read_excel('./최종자료/최종_특성_테이블.xlsx')"
   ]
  },
  {
   "cell_type": "code",
   "execution_count": 15,
   "metadata": {},
   "outputs": [],
   "source": [
    "# df_char.head()"
   ]
  },
  {
   "cell_type": "code",
   "execution_count": 16,
   "metadata": {},
   "outputs": [],
   "source": [
    "df_char = df_char.drop(columns=['나이'])"
   ]
  },
  {
   "cell_type": "code",
   "execution_count": 17,
   "metadata": {},
   "outputs": [],
   "source": [
    "# df_char.head()"
   ]
  },
  {
   "cell_type": "code",
   "execution_count": 18,
   "metadata": {},
   "outputs": [],
   "source": [
    "df_char.rename(columns={'나이(꼬리_기준)':'나이'}, inplace=True)"
   ]
  },
  {
   "cell_type": "code",
   "execution_count": 19,
   "metadata": {},
   "outputs": [],
   "source": [
    "# df_char.head()"
   ]
  },
  {
   "cell_type": "code",
   "execution_count": 20,
   "metadata": {},
   "outputs": [],
   "source": [
    "df_char = df_char.dropna(axis=0) #결측 값이 존재하는 행 제거"
   ]
  },
  {
   "cell_type": "code",
   "execution_count": 21,
   "metadata": {},
   "outputs": [],
   "source": [
    "# 다른 함수들이 참조할 수 있겠끔 global로 설정\n",
    "breed = None\n",
    "cate_age = None\n",
    "gender = None\n",
    "size = None"
   ]
  },
  {
   "cell_type": "code",
   "execution_count": 22,
   "metadata": {},
   "outputs": [],
   "source": [
    "# 입력 받은 나이를 나이 카테고리에 맞게 변환해주는 함수\n",
    "def change_age(age):\n",
    "    \n",
    "    if age[-1]=='살':\n",
    "        if int(age[:-1]) >=8:\n",
    "            return \"노견\"\n",
    "        else :\n",
    "            return \"성견\"\n",
    "        \n",
    "    elif age[-1]=='주':\n",
    "        return \"신생견\"\n",
    "        \n",
    "    elif age[-2:]=='개월':\n",
    "        return \"자견\"\n",
    "    else:\n",
    "        return '전연령'\n",
    "    "
   ]
  },
  {
   "cell_type": "code",
   "execution_count": 23,
   "metadata": {},
   "outputs": [],
   "source": [
    "#원하는 문자열이 row라는 큰 문자열 내에 존재하는지 검사해주는 함수\n",
    "def check_range(row, age_list):\n",
    "    new_row = [val.strip() for val in row.split(',')]\n",
    "    for sub_age in age_list:\n",
    "        if sub_age in new_row:\n",
    "            return True\n",
    "\n",
    "    return False\n",
    "    "
   ]
  },
  {
   "cell_type": "code",
   "execution_count": 24,
   "metadata": {},
   "outputs": [],
   "source": [
    "# 각 특성을 입력받고 특성 테이블에서 이에 해당하는 로우들로 새로운 테이블을 만든다.\n",
    "\n",
    "def make_table_disease(df_char):\n",
    "    global breed, cate_age, gender, size \n",
    "    \n",
    "    #입력 받는 부분\n",
    "    breed = input(\"견종을 입력해주세요. : (꼬리 앱 기준의 정확한 명칭의 견종 or 모르시겠다면 '무관'을 입력해주세요.) : \")\n",
    "    display(breed)\n",
    "    age = input(\"나이를 입력해주세요 : (몇 주라면 몇주를(단 1개월 이상이라면 개월을 써주세요), 개월의 경우 숫자 뒤에 개월을(단 12개월 이상이라면 나이로써 대해주세요), 나이라면 뒤에 살이라고 써주세요.) : \")\n",
    "    cate_age = change_age(age)\n",
    "    display(cate_age)\n",
    "    gender = input(\"성별을 입력해주세요 : (중암(중성화 수술을 한 암컷), 중수(중성화 수술을 한 수컷), 암, 수)로 입력을 해주세요 : \")\n",
    "    display(gender)\n",
    "    size = input(\"본인의 개가 대형견이라면 대를, 중형견이라면 중을, 소형견이라면 소를 입력해주세요 : \")\n",
    "    display(size)\n",
    "    \n",
    "    #크기 처리\n",
    "    df_sub_char = df_char[(df_char['크기']==size) | (df_char['크기']=='무관')]\n",
    "    \n",
    "    #견종처리\n",
    "    df_sub_char = df_char[df_char['견종'].isin([breed, '무관'])]\n",
    "\n",
    "    #나이 처리\n",
    "    df_sub_char['검사'] = [False]*len(df_sub_char)\n",
    "    display(df_sub_char.head())\n",
    "    df_sub_char['검사'] = df_sub_char.apply(lambda row : check_range(row['나이'], [cate_age,'전연령']), axis=1)\n",
    "    display(df_sub_char.head(15))\n",
    "    \n",
    "    remove_list = df_sub_char[df_sub_char['검사']==False].index.tolist()\n",
    "    df_sub_char = df_sub_char.drop(remove_list)\n",
    "    df_sub_char = df_sub_char.drop(columns=['검사'])\n",
    "    \n",
    "    display(df_sub_char.shape)\n",
    "    \n",
    "    #성별 처리\n",
    "    df_sub_char['검사'] = [False]*len(df_sub_char)\n",
    "    display(df_sub_char.head())\n",
    "    df_sub_char['검사'] = df_sub_char.apply(lambda row : check_range(row['성별'], [gender, '무관']), axis=1)\n",
    "    display(df_sub_char.head(15))\n",
    "    \n",
    "    remove_list = df_sub_char[df_sub_char['검사']==False].index.tolist()\n",
    "    df_sub_char = df_sub_char.drop(remove_list)\n",
    "    df_sub_char = df_sub_char.drop(columns=['검사'])\n",
    "    \n",
    "    display(df_sub_char.shape)\n",
    "    \n",
    "    return df_sub_char\n",
    "    "
   ]
  },
  {
   "cell_type": "markdown",
   "metadata": {},
   "source": [
    "### 치료 테이블과 조인"
   ]
  },
  {
   "cell_type": "code",
   "execution_count": 25,
   "metadata": {},
   "outputs": [],
   "source": [
    "table_cure = pd.read_excel(r'./최종자료/질병 치료.xlsx')"
   ]
  },
  {
   "cell_type": "code",
   "execution_count": 26,
   "metadata": {},
   "outputs": [],
   "source": [
    "table_cure = table_cure.drop(columns=['Unnamed: 2', 'Unnamed: 3', 'Unnamed: 4'])\n",
    "table_cure.columns = ['질병명', '치료요소', '질병코드']"
   ]
  },
  {
   "cell_type": "code",
   "execution_count": 27,
   "metadata": {},
   "outputs": [],
   "source": [
    "def combination(x):\n",
    "    if x == np.nan:\n",
    "        return x\n",
    "    c_list = []\n",
    "    for val in str(x).split(','):\n",
    "        c_list.append(val.strip())\n",
    "    return ','.join(c_list)"
   ]
  },
  {
   "cell_type": "code",
   "execution_count": 28,
   "metadata": {},
   "outputs": [],
   "source": [
    "table_cure['질병코드'] = table_cure['질병코드'].map(lambda x: combination(x))"
   ]
  },
  {
   "cell_type": "code",
   "execution_count": 29,
   "metadata": {},
   "outputs": [],
   "source": [
    "# 질병 테이블과 입력 받은 특성들의 조건에 맞는 특성 테이블의 로우들을 조인해주는 함수\n",
    "\n",
    "def make_perfect_table():\n",
    "    first_table = make_table_disease(df_char) #특성 테이블에서 입력한 값들을 통해서 행들\n",
    "    \n",
    "    first_table_index = first_table['질병명'].tolist()\n",
    "    second_table = table_cure[table_cure['질병명'].isin(first_table_index)]\n",
    "    \n",
    "    perfect_table = pd.merge(first_table, second_table, on=\"질병명\")\n",
    "    display(perfect_table.head(), perfect_table.shape)\n",
    "    \n",
    "    return perfect_table\n",
    "\n"
   ]
  },
  {
   "cell_type": "markdown",
   "metadata": {},
   "source": [
    "# 증상 추가하기"
   ]
  },
  {
   "cell_type": "code",
   "execution_count": 30,
   "metadata": {},
   "outputs": [],
   "source": [
    "df_all = pd.read_excel('./최종자료/diseas_result.xlsx')"
   ]
  },
  {
   "cell_type": "markdown",
   "metadata": {},
   "source": [
    "### 증상"
   ]
  },
  {
   "cell_type": "code",
   "execution_count": 31,
   "metadata": {},
   "outputs": [],
   "source": [
    "# 증상을 입력받고 질병 테이블에서 가장 의심되는 질병 3개를 추천해주는 함수\n",
    "\n",
    "def recomended() :\n",
    "    state_list = []\n",
    "    disease_data = None\n",
    "    pet = '개'\n",
    "    emer = {'응급':1, np.nan:0}\n",
    "    \n",
    "    #while 문을 통해서 증상을 계속해서 입력받는다.\n",
    "    while 1 :\n",
    "        state = input('증상을 입력 해주세요 . :').rstrip() \n",
    "        \n",
    "        # 문자 'q'를 입력 받았을때 아래의 부분을 처리하고 while문을 탈출합니다.\n",
    "        if state == 'q':\n",
    "            # 단 하나의 증상을 입력했을 경우\n",
    "            print('\\n')\n",
    "            print('가장 의심되는 질병 진단 : \\n')\n",
    "            \n",
    "            if len(state_list)==1:\n",
    "                #응급도 컬럼의 내용을 숫자로 변경합니다.\n",
    "                disease_data['응급도'] = disease_data['응급도'].map(lambda x: emer[x]) \n",
    "                #질병 테이블을 빌병 발생빈도, 응급도 컬럼을 기준으로 해서 내림차 정렬을 합니다.\n",
    "                disease_data = disease_data.sort_values(by=['질병발생빈도', '응급도'], ascending=False)\n",
    "\n",
    "                return disease_data.head(3)\n",
    "            \n",
    "            else:\n",
    "                \n",
    "                # 복수의 증상을 입력했을 경우\n",
    "                size = len(state_list) #입력받은 증상의 갯수를 보관하는 변수\n",
    "                \n",
    "                #현재 disease_data라는 데이터 프레임은 고객이 입력한 증상들을 갖는 질병들로 구성되어 있다. 증상이 하나만 일치하거나\n",
    "                #입력한 증상이 모두 일치하는 그런 질병들로 구성됨\n",
    "                #사용자가 입력한 증상을 제일 많이 가지고 있는 질병이 몇개인지\n",
    "                #단, 여기서 증상의 갯수만큼 존재하지는 않는다. 축종에 의해서 축종이 일치하거나 공통이라는 카테고리가 있기 때문에\n",
    "                #max_count는 증상의 갯수 이상일 것이다.\n",
    "                max_count = disease_data.groupby('질병명').count().max().max() \n",
    "                \n",
    "                \n",
    "                plus_val = 0\n",
    "                \n",
    "                if max_count >= size: #입력한 증상을 최대한 많이 갖는 질병들만 발생 빈도를 높여준다. 즉 가중치 값을 올려준다.\n",
    "                    \n",
    "                    disease_count = disease_data.groupby('질병명').count().reset_index()\n",
    "                    disease_max = disease_data.groupby('질병명')['질병발생빈도'].max().reset_index()\n",
    "\n",
    "                    #입력한 증상들을 많이 갖는 질병들 중에서 발생빈도수가 제일 많은 질병의 발생 빈도수를 저장한다.\n",
    "                    plus_val = disease_max['질병발생빈도'].max()\n",
    "                    \n",
    "                    # 증상들을 많이 갖는 질병들을 리스트로 만든다.\n",
    "                    high_probability_of_disease = disease_count[disease_count['질병코드']>=size]['질병명'].tolist() \n",
    "                    \n",
    "                    #증상들을 많이 갖는 질병들의 질병 발생 빈도수를 질병 발생빈도수가 제일 큰 값만큼 올려준다.(가중치 up)\n",
    "                    disease_data['질병발생빈도'] = disease_data.apply(lambda row : row['질병발생빈도']+plus_val if row['질병명'] in high_probability_of_disease else row['질병발생빈도'], axis=1)\n",
    "                \n",
    "                # 축종이 공통인 부분 보다는 축종이 일치하는 발생빈도수를 2배로 증가 시켜준다.(가중치 up)\n",
    "                disease_data.loc[(disease_data['질병축종']==pet),'질병발생빈도'] = disease_data.loc[(disease_data['질병축종']==pet),'질병발생빈도']*2\n",
    "                disease_data['응급도'] = disease_data['응급도'].map(lambda x: emer[x])\n",
    "                \n",
    "                # 질병명과, 질병코드를 기준으로 해서 합산 테이블을 만든다. 각 질병명을 기준으로 해서 질병발생빈도수, 응급도 값들을 더해진다.\n",
    "                result = disease_data.groupby(['질병명', '질병코드'])['질병명', '질병코드', '질병발생빈도', '응급도'].sum().reset_index()\n",
    "                \n",
    "                #질병 발생 빈도와 응급도를 기준으로 내림차순으로 정렬한다.\n",
    "                result = result.sort_values(by=['질병발생빈도', '응급도'], ascending=False)\n",
    "                \n",
    "                return result.head(3)\n",
    "            \n",
    "        else:   #'q'를 입력해 중단하지 않음 \n",
    "            \n",
    "            state_list.append(state)\n",
    "\n",
    "            if len(state_list)==1: # 단 하나의 증상만 입력했을 경우\n",
    "\n",
    "                df_result = df_all[(df_all['표준증상명']==state)]\n",
    "                df_result = df_result[(df_all['질병축종']=='공통') | (df_all['질병축종']==pet)]\n",
    "                disease_data = df_result\n",
    "                print(df_result)\n",
    "                \n",
    "            else:\n",
    "                # 복수의 증상을 입력 했을 때\n",
    "                size = len(df_all)\n",
    "                length = len(state_list)\n",
    "                \n",
    "                df_result = df_all.copy()\n",
    "                df_result['확인'] = np.zeros(size)\n",
    "                \n",
    "                # 이제까지 입력한 증상들을 갖는 질병들만 고른다.\n",
    "                df_result = df_all[df_all['표준증상명'].isin(state_list)] \n",
    "                \n",
    "                #질병 축종이 공통이거나 개인 얘들만 고른다.\n",
    "                df_result = df_result[(df_result['질병축종']=='공통') | (df_result['질병축종']==pet)]\n",
    "                df_result = df_result.sort_values(by=['표준증상명'])\n",
    "            \n",
    "                # 아래의 경우는 본래 증상의 갯수만큼 혹은 그 이상의 행을 가진 질병에 대한 데이터만을 가지겠끔 하려고 했었는데\n",
    "                # 그경우에 펫의 주인이 의심되는 대로 입력하다가 본래의 특정한 병에 접근이 불가능할 경우도 있기에\n",
    "                # 과감히 그 기능은 빼고 위의 'q'를 입력시에 제일 의심이 가는 질병을 추천하겠끔 만들었습니다.\n",
    "            \n",
    "                disease_data = df_result\n",
    "                print(df_result.head(15))\n",
    "        \n",
    "    return 0"
   ]
  },
  {
   "cell_type": "markdown",
   "metadata": {},
   "source": [
    "### 가중치 선별"
   ]
  },
  {
   "cell_type": "code",
   "execution_count": 32,
   "metadata": {},
   "outputs": [],
   "source": [
    "# 사용자가 입력한 각 특성들에 가중치를 주는 함수입니다.\n",
    "# 제일 중요하다고 생각하는 특성은 견종이며, 다음으로 나이, 크기, 성별 순입니다.\n",
    "\n",
    "def score_row(row, val):\n",
    "    \n",
    "    score = 0\n",
    "    \n",
    "    global breed, cate_age, gender, size \n",
    "    \n",
    "    if val=='견종':\n",
    "        if row==breed:\n",
    "            score += 10\n",
    "        else : \n",
    "            score += 1\n",
    "    \n",
    "    elif val=='나이':\n",
    "        \n",
    "        if cate_age in row:\n",
    "            score += 5\n",
    "        else:\n",
    "            score += 1\n",
    "    \n",
    "    elif val=='크기':\n",
    "        if row==size:\n",
    "            score += 3\n",
    "        else:\n",
    "            score += 1\n",
    "    \n",
    "    elif val=='성별':\n",
    "        if row==gender:\n",
    "            score+=2\n",
    "        else:\n",
    "            score+=1\n",
    "    \n",
    "    return score"
   ]
  },
  {
   "cell_type": "markdown",
   "metadata": {},
   "source": [
    "### 가중치 총합에 따라 정렬"
   ]
  },
  {
   "cell_type": "code",
   "execution_count": 33,
   "metadata": {},
   "outputs": [],
   "source": [
    "def sorted_perfect_table(perfect_table):\n",
    "    perfect_table['총합'] = [0]*len(perfect_table)\n",
    "    \n",
    "    #질병에 대해 특성들의 가중치의 합을 '총합'컬럼에 입력해줍니다.\n",
    "    perfect_table['총합'] = perfect_table.apply(lambda row : score_row(row['견종'], '견종')+score_row(row['나이'], '나이')+score_row(row['성별'], '성별')+score_row(row['크기'], '크기'), axis=1)\n",
    "    #가중치의 합을 기준으로 내림차순으로 정렬합니다.\n",
    "    perfect_table = perfect_table.sort_values(by=['총합'], ascending=False)\n",
    "    print(\"검사 통한 테이블\")\n",
    "    \n",
    "    return perfect_table"
   ]
  },
  {
   "cell_type": "markdown",
   "metadata": {},
   "source": [
    "### 증상을 통해 나온 3개의 질병 순위를 위한 함수"
   ]
  },
  {
   "cell_type": "code",
   "execution_count": 34,
   "metadata": {},
   "outputs": [],
   "source": [
    "# recommended 함수를 통해서 전달받은 질병들에는 리스트 내에서 앞에 있는 순으로 우선 순위가 존재합니다.\n",
    "# 특성 들에 의한 데이터 선별보다는 과거 펫이 겪었던 질병이력이 더 주목해야할 데이터 이므로\n",
    "# 정렬시 이 순위를 우선시 해줍니다.\n",
    "# 단, 정렬시 가중치합이 내림차순이므로 이에 맞추기위해 본래 0,1,2 순이었던 데이터를 3,2,1 순으로 변경해줍니다.\n",
    "\n",
    "def set_rank(row, code_list):\n",
    "    score = 0\n",
    "    new_row = [val.strip() for val in row.split(',')]\n",
    "    for sub_code in code_list:\n",
    "        if sub_code in new_row:\n",
    "            if score < code_list[sub_code]:\n",
    "                score = code_list[sub_code]\n",
    "    return score"
   ]
  },
  {
   "cell_type": "markdown",
   "metadata": {},
   "source": [
    "### 중간 단계의 테이블을 만들기 위한 함수(사료테이블과 조인 전의 중간 단계의 테이블이라는 의미이다.)"
   ]
  },
  {
   "cell_type": "code",
   "execution_count": 35,
   "metadata": {},
   "outputs": [],
   "source": [
    "\n",
    "def confirm_middle_stage():\n",
    "    perfect_table = make_perfect_table()\n",
    "    \n",
    "    #특성을 통해 얻어온 조인된 테이블을 가중치 합을 통해 정렬시켜줍니다.\n",
    "    perfect_table = sorted_perfect_table(perfect_table)\n",
    "    display(perfect_table.head(7))\n",
    "    \n",
    "    if input('과거 병력중 증상을 입력할 건가요?')=='yes':\n",
    "        \n",
    "        # 증상을 통해 가장 의심되는 질병 데이터를 얻어 옵니다.\n",
    "        symptom = recomended()\n",
    "        print(\"출력\")\n",
    "        symptom = symptom.iloc[0:3,:].reset_index()\n",
    "        symptom.rename(columns={0:'질병명', 1:'질병코드', 2:'질병발생빈도', 3:'응급도'}, inplace=True)\n",
    "        display(symptom)\n",
    "        symptom = symptom.drop(columns=['index'])\n",
    "\n",
    "        disease_code = symptom.iloc[0:3,1]\n",
    "        display(disease_code)\n",
    "        \n",
    "        dict_disease_code = {val:(3-idx) for idx, val in enumerate(disease_code)} #우선 순위값을 내림차순으로 정렬하기 위해 변경해줍니다.\n",
    "\n",
    "        print(\"질병 데이터를 넣기 전 테이블\")\n",
    "        display(perfect_table.head())\n",
    "        \n",
    "        # 특성, 치료의 조인된 테이블내에 가장 의심되는 질병의 질병 코드가 존재하는지 검사합니다.\n",
    "        perfect_table['검사'] = [False]*len(perfect_table)\n",
    "        perfect_table['검사'] = perfect_table.apply(lambda row: check_range(row['질병코드'], disease_code), axis=1) \n",
    "        \n",
    "        print(\"트루 로우 갯수 : \")\n",
    "        display(len(perfect_table[perfect_table['검사']==True]))\n",
    "        \n",
    "        if len(perfect_table[perfect_table['검사']==True]) != 0:\n",
    "            \n",
    "            # 가장 의심되는 질병의 질병코드가 조인된 테이블 내에 하나도 존재하지 않는 경우\n",
    "            \n",
    "            perfect_table = perfect_table[perfect_table['검사']==True] # 질병코드가 존재하는 열들만 골라냅니다.\n",
    "            perfect_table['순위'] = [0]*len(perfect_table)\n",
    "            \n",
    "            #가장 의심되는 질병들의 코드가 존재하는 열들에 대해 이 질병들의 우선 순위에 대해서 '순위'라는 컬럼에 입력해 줍니다.\n",
    "            perfect_table['순위'] = perfect_table.apply(lambda row : set_rank(row['질병코드'], dict_disease_code), axis=1)\n",
    "            # 순위와 총합을 기준으로 데이터를 내림차순으로 정렬해줍니다.\n",
    "            perfect_table = perfect_table.sort_values(by=['순위', '총합'], ascending=False)\n",
    "        \n",
    "        perfect_table = perfect_table.drop(columns=['검사'])\n",
    "\n",
    "        display(perfect_table)\n",
    "\n",
    "        return perfect_table\n",
    "    \n",
    "    else:\n",
    "        \n",
    "        # 증상을 입력하지 않는다면 위의 경우처럼 데이터 프레임으로 전달하는 것이 아니라 스트링(문자열)로 전달을 합니다.\n",
    "        # 단, 이는 견종이 '무관'일 경우 입니다.\n",
    "        \n",
    "        if breed == '무관':\n",
    "            \n",
    "            if cate_age=='전연령':\n",
    "                return \"전연령\"\n",
    "            elif cate_age == '신생견' or cate_age == '자견':\n",
    "                return '자견'\n",
    "            elif cate_age == '성견':\n",
    "                return '성견'\n",
    "            else:\n",
    "                return '노견'\n",
    "        else:\n",
    "            return perfect_table\n",
    "            "
   ]
  },
  {
   "cell_type": "markdown",
   "metadata": {},
   "source": [
    "# 사료 테이블과 조인 & 사료 추천"
   ]
  },
  {
   "cell_type": "code",
   "execution_count": 36,
   "metadata": {},
   "outputs": [],
   "source": [
    "df_goods = pd.read_excel(\"./최종자료/고려대전달용_쇼핑몰_공개_상품목록_20200814.xlsx\")"
   ]
  },
  {
   "cell_type": "code",
   "execution_count": 37,
   "metadata": {},
   "outputs": [],
   "source": [
    "df_goods.columns = df_goods.iloc[0,:]"
   ]
  },
  {
   "cell_type": "code",
   "execution_count": 38,
   "metadata": {},
   "outputs": [],
   "source": [
    "df_goods = df_goods.drop([0], axis=0)"
   ]
  },
  {
   "cell_type": "code",
   "execution_count": 39,
   "metadata": {},
   "outputs": [],
   "source": [
    "df_goods['주요기능'] = ['']*len(df_goods)"
   ]
  },
  {
   "cell_type": "markdown",
   "metadata": {},
   "source": [
    "### 사료테이블 내의 나누어진 치유 기능 ',' 이용해서 합치기"
   ]
  },
  {
   "cell_type": "code",
   "execution_count": 40,
   "metadata": {},
   "outputs": [],
   "source": [
    "def make_func(row):\n",
    "    \n",
    "    func_list = []\n",
    "    \n",
    "    if row['주요기능1'] is not np.nan:\n",
    "\n",
    "        func_list.append(str(row['주요기능1']))\n",
    "    \n",
    "    if row['주요기능2'] is not np.nan:\n",
    "\n",
    "        func_list.append(str(row['주요기능2']))\n",
    "    \n",
    "    if row['주요기능3'] is not np.nan:\n",
    "\n",
    "        func_list.append(str(row['주요기능3']))\n",
    "    \n",
    "    if row['주요기능4'] is not np.nan:\n",
    "\n",
    "        func_list.append(str(row['주요기능4']))\n",
    "        \n",
    "    if row['주요기능5'] is not np.nan:\n",
    "\n",
    "        func_list.append(str(row['주요기능5']))\n",
    "        \n",
    "    if row['주요기능6'] is not np.nan:\n",
    "\n",
    "        func_list.append(str(row['주요기능6']))\n",
    "        \n",
    "    return \",\".join(func_list)"
   ]
  },
  {
   "cell_type": "code",
   "execution_count": 41,
   "metadata": {},
   "outputs": [],
   "source": [
    "df_goods['주요기능'] = df_goods.apply(lambda row : make_func(row), axis=1)"
   ]
  },
  {
   "cell_type": "markdown",
   "metadata": {},
   "source": [
    "### 앞에서 넘어온 치료리스트와 사료테이블 내의 치료 리스트가 얼마나 일치하는가에 대한 함수"
   ]
  },
  {
   "cell_type": "code",
   "execution_count": 42,
   "metadata": {},
   "outputs": [],
   "source": [
    "def make_match(row, goods_list):\n",
    "    set_A = set(row['주요기능'].split(','))\n",
    "    set_B = set(goods_list[0].split(','))\n",
    "\n",
    "    return len(set_A & set_B)"
   ]
  },
  {
   "cell_type": "markdown",
   "metadata": {},
   "source": [
    "### 견종이 무관인 경우의 각 치료요소 리스트 만드는 함수"
   ]
  },
  {
   "cell_type": "code",
   "execution_count": 43,
   "metadata": {},
   "outputs": [],
   "source": [
    "def get_top_three(answer):\n",
    "    \n",
    "    cure_list = []\n",
    "    \n",
    "    if answer == '전연령':\n",
    "        cure_list = ['피부(모질)개선','귓속 건강','설사 예방']\n",
    "    elif answer == '자견':\n",
    "        cure_list = ['설사 예방','영양공급','면역력 향상']\n",
    "    elif answer == '성견':\n",
    "        cure_list = ['설사 예방','귓속 건강','피부(모질)개선']\n",
    "    elif answer == '노견':\n",
    "        cure_list = ['피부(모질)개선','귓속 건강','관절']\n",
    "    \n",
    "    return cure_list"
   ]
  },
  {
   "cell_type": "markdown",
   "metadata": {},
   "source": [
    "# 최종적으로 사료를 추천해주는 함수"
   ]
  },
  {
   "cell_type": "code",
   "execution_count": 44,
   "metadata": {},
   "outputs": [],
   "source": [
    "def recommend_goods(df_goods):\n",
    "    \n",
    "    goods = input(\"찾는 것은 SNACK(과자)인가요? 아니면 FEED(사료)인가요?\")\n",
    "    \n",
    "    middle_table = confirm_middle_stage() # 질병 코드 처리까지 마쳤거나 그 이전의 테이블을 리턴 받습니다.\n",
    "    \n",
    "    #견종이 무관인지 검사\n",
    "    if type(middle_table) == type('exit'):\n",
    "        answer = middle_table\n",
    "        cure_list = get_top_three(answer) #견종이 무관인 경우 치료리스트를 통해서 바로 사료 테이블과 조인하기위해 견종과 나이에 해당하는 치료요소를 리턴 받스빈다.\n",
    "        display(cure_list)\n",
    "    \n",
    "    else:\n",
    "        \n",
    "        first = pd.DataFrame(middle_table.iloc[0,:]).T\n",
    "        display(first)\n",
    "    \n",
    "        cure_list = first['치료요소'].tolist()\n",
    "        display(cure_list)\n",
    "    \n",
    "    goods_list = df_goods[(df_goods['축종구분']=='개') & (df_goods['큐레이션 타입']==goods)]\n",
    "    display(goods_list.shape)\n",
    "\n",
    "    # '일치'라는 컬럼을 새로 만들고, 위의 치료요소 리스트와 사료 테이블내의 치료요소와 얼마난 일치하는지 수치로 입력합니다.\n",
    "    goods_list['일치'] = goods_list.apply(lambda row: make_match(row, cure_list), axis=1) \n",
    "    \n",
    "    # '일치' 컬럼을 통해서 많이 일치하는 순으로 데이터를 내림차순으로 정렬합니다.\n",
    "    goods_list = goods_list.sort_values(by=['일치'], ascending=False)\n",
    "    \n",
    "    display(goods_list.head(20))\n",
    "    display(goods_list['일치'].value_counts())\n",
    "    \n",
    "# recommend_goods(df_goods)"
   ]
  },
  {
   "cell_type": "code",
   "execution_count": 45,
   "metadata": {},
   "outputs": [],
   "source": [
    "# 귀에서 피가 남, 귀를 긁음, 머리를 기울임"
   ]
  }
 ],
 "metadata": {
  "kernelspec": {
   "display_name": "Python 3",
   "language": "python",
   "name": "python3"
  },
  "language_info": {
   "codemirror_mode": {
    "name": "ipython",
    "version": 3
   },
   "file_extension": ".py",
   "mimetype": "text/x-python",
   "name": "python",
   "nbconvert_exporter": "python",
   "pygments_lexer": "ipython3",
   "version": "3.7.6"
  }
 },
 "nbformat": 4,
 "nbformat_minor": 4
}
